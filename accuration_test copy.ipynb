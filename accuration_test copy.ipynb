{
 "cells": [
  {
   "cell_type": "code",
   "execution_count": 1,
   "metadata": {},
   "outputs": [],
   "source": [
    "# Import libraries\n",
    "\n",
    "import pandas as pd"
   ]
  },
  {
   "cell_type": "code",
   "execution_count": 3,
   "metadata": {},
   "outputs": [
    {
     "data": {
      "text/html": [
       "<div>\n",
       "<style scoped>\n",
       "    .dataframe tbody tr th:only-of-type {\n",
       "        vertical-align: middle;\n",
       "    }\n",
       "\n",
       "    .dataframe tbody tr th {\n",
       "        vertical-align: top;\n",
       "    }\n",
       "\n",
       "    .dataframe thead th {\n",
       "        text-align: right;\n",
       "    }\n",
       "</style>\n",
       "<table border=\"1\" class=\"dataframe\">\n",
       "  <thead>\n",
       "    <tr style=\"text-align: right;\">\n",
       "      <th></th>\n",
       "      <th>title_and_abstract</th>\n",
       "      <th>pattern_webb</th>\n",
       "      <th>pattern_johann</th>\n",
       "      <th>pattern_raharjana</th>\n",
       "      <th>expected_result</th>\n",
       "    </tr>\n",
       "  </thead>\n",
       "  <tbody>\n",
       "    <tr>\n",
       "      <th>0</th>\n",
       "      <td>fire detection system based on artificial inte...</td>\n",
       "      <td>[(detect, fire), (generate, video), (analyze, ...</td>\n",
       "      <td>[(base, on, artificial, intelligence), (base, ...</td>\n",
       "      <td>[(base, on, ai), (base, on, ai), (detect, fire...</td>\n",
       "      <td>[(detect, fire), (generate, video, image), (ex...</td>\n",
       "    </tr>\n",
       "    <tr>\n",
       "      <th>1</th>\n",
       "      <td>the present disclosure relates to a fire detec...</td>\n",
       "      <td>[(detect, fire), (generate, video), (analyze, ...</td>\n",
       "      <td>[(detect, fire), (use, deep, learning), (inclu...</td>\n",
       "      <td>[(base, on, ai), (base, on, ai), (detect, fire...</td>\n",
       "      <td>[(detect, fire), (generate, video, image), (ex...</td>\n",
       "    </tr>\n",
       "    <tr>\n",
       "      <th>2</th>\n",
       "      <td>embedding artificial intelligence for balancin...</td>\n",
       "      <td>[(balance, access), (process, load), (enable, ...</td>\n",
       "      <td>[(embed, artificial, intelligence), (balance, ...</td>\n",
       "      <td>[(balance, access, point), (process, load), (e...</td>\n",
       "      <td>[(balance, access, point), (determine, rssi, v...</td>\n",
       "    </tr>\n",
       "    <tr>\n",
       "      <th>3</th>\n",
       "      <td>responsive to a cpu load of a specific access ...</td>\n",
       "      <td>[(threshold, value), (determine, rssi)]</td>\n",
       "      <td>[(threshold, value), (determine, rssi)]</td>\n",
       "      <td>[(threshold, value), (determine, rssi, value),...</td>\n",
       "      <td>[(determine, rssi, value)]</td>\n",
       "    </tr>\n",
       "    <tr>\n",
       "      <th>4</th>\n",
       "      <td>optimization techniques for artificial intelli...</td>\n",
       "      <td>[(receive, annotation), (determine, document),...</td>\n",
       "      <td>[(receive, annotation), (annotate, first, set)...</td>\n",
       "      <td>[(comprise, select, from, a, pool), (receive, ...</td>\n",
       "      <td>[(generate, a, natural, language, model), (gen...</td>\n",
       "    </tr>\n",
       "  </tbody>\n",
       "</table>\n",
       "</div>"
      ],
      "text/plain": [
       "                                  title_and_abstract  \\\n",
       "0  fire detection system based on artificial inte...   \n",
       "1  the present disclosure relates to a fire detec...   \n",
       "2  embedding artificial intelligence for balancin...   \n",
       "3  responsive to a cpu load of a specific access ...   \n",
       "4  optimization techniques for artificial intelli...   \n",
       "\n",
       "                                        pattern_webb  \\\n",
       "0  [(detect, fire), (generate, video), (analyze, ...   \n",
       "1  [(detect, fire), (generate, video), (analyze, ...   \n",
       "2  [(balance, access), (process, load), (enable, ...   \n",
       "3            [(threshold, value), (determine, rssi)]   \n",
       "4  [(receive, annotation), (determine, document),...   \n",
       "\n",
       "                                      pattern_johann  \\\n",
       "0  [(base, on, artificial, intelligence), (base, ...   \n",
       "1  [(detect, fire), (use, deep, learning), (inclu...   \n",
       "2  [(embed, artificial, intelligence), (balance, ...   \n",
       "3            [(threshold, value), (determine, rssi)]   \n",
       "4  [(receive, annotation), (annotate, first, set)...   \n",
       "\n",
       "                                   pattern_raharjana  \\\n",
       "0  [(base, on, ai), (base, on, ai), (detect, fire...   \n",
       "1  [(base, on, ai), (base, on, ai), (detect, fire...   \n",
       "2  [(balance, access, point), (process, load), (e...   \n",
       "3  [(threshold, value), (determine, rssi, value),...   \n",
       "4  [(comprise, select, from, a, pool), (receive, ...   \n",
       "\n",
       "                                     expected_result  \n",
       "0  [(detect, fire), (generate, video, image), (ex...  \n",
       "1  [(detect, fire), (generate, video, image), (ex...  \n",
       "2  [(balance, access, point), (determine, rssi, v...  \n",
       "3                         [(determine, rssi, value)]  \n",
       "4  [(generate, a, natural, language, model), (gen...  "
      ]
     },
     "execution_count": 3,
     "metadata": {},
     "output_type": "execute_result"
    }
   ],
   "source": [
    "# Read data\n",
    "\n",
    "data = pd.read_excel('data/accuration_test2.xlsx')\n",
    "data['pattern_webb'] = data['pattern_webb'].apply(lambda x:list(eval(str(x))))\n",
    "data['pattern_raharjana'] = data['pattern_raharjana'].apply(lambda x:list(eval(str(x))))\n",
    "data['pattern_johann'] = data['pattern_johann'].apply(lambda x:list(eval(str(x))))\n",
    "data['expected_result'] = data['expected_result'].apply(lambda x:list(eval(str(x))))\n",
    "\n",
    "data.head()"
   ]
  },
  {
   "cell_type": "code",
   "execution_count": 9,
   "metadata": {},
   "outputs": [
    {
     "data": {
      "text/plain": [
       "0           [(detect, fire), (generate, video, image)]\n",
       "1           [(detect, fire), (generate, video, image)]\n",
       "2    [(balance, access, point), (determine, rssi, v...\n",
       "3    [(determine, rssi, value), (determine, rssi, v...\n",
       "4    [(receive, annotation), (select, from, a, pool...\n",
       "5    [(receive, annotation), (select, from, a, pool...\n",
       "6    [(create, a, secure, distributed, data, valida...\n",
       "7    [(validate, paper, forms), (select, a, first, ...\n",
       "8           [(personalize, dialogue), (perform, card)]\n",
       "9    [(optimize, planning), (select, an, optimal, m...\n",
       "Name: true_webb, dtype: object"
      ]
     },
     "execution_count": 9,
     "metadata": {},
     "output_type": "execute_result"
    }
   ],
   "source": [
    "# find the right predicted chunk\n",
    "def find_true(index, column):\n",
    "    common_tuples = []\n",
    "    for tuple1 in column[index]:\n",
    "        for tuple2 in data['expected_result'][index]:\n",
    "            if any(word in tuple2 for word in tuple1):\n",
    "                common_tuples.append(tuple2)\n",
    "                break\n",
    "    return common_tuples\n",
    "\n",
    "data['true_webb'] = data.apply(lambda row: find_true(row.name, data['pattern_webb']), axis=1)\n",
    "data['true_raharjana'] = data.apply(lambda row: find_true(row.name, data['pattern_raharjana']), axis=1)\n",
    "data['true_johann'] = data.apply(lambda row: find_true(row.name, data['pattern_johann']), axis=1)\n",
    "data['true_webb']"
   ]
  },
  {
   "cell_type": "code",
   "execution_count": 11,
   "metadata": {},
   "outputs": [
    {
     "data": {
      "text/plain": [
       "0                       [(analyze, part)]\n",
       "1                       [(analyze, part)]\n",
       "2    [(process, load), (enable, network)]\n",
       "3                                      []\n",
       "4                                      []\n",
       "5                                      []\n",
       "6                                      []\n",
       "7                                      []\n",
       "8                                      []\n",
       "9                 [(include, management)]\n",
       "Name: false_webb, dtype: object"
      ]
     },
     "execution_count": 11,
     "metadata": {},
     "output_type": "execute_result"
    }
   ],
   "source": [
    "# find the false predicted chunk from verb-noun pattern\n",
    "def find_false(index, column):\n",
    "    disjoint_tuples = []\n",
    "    for tuple1 in column[index]:\n",
    "        found_common = False\n",
    "        for tuple2 in data['expected_result'][index]:\n",
    "            if any(word in tuple2 for word in tuple1):\n",
    "                found_common = True\n",
    "                break\n",
    "        if not found_common:\n",
    "            disjoint_tuples.append(tuple1)\n",
    "    return disjoint_tuples\n",
    "\n",
    "data['false_webb'] = data.apply(lambda row: find_false(row.name, data['pattern_webb']), axis=1)\n",
    "data['false_johann'] = data.apply(lambda row: find_false(row.name, data['pattern_johann']), axis=1)\n",
    "data['false_raharjana'] = data.apply(lambda row: find_false(row.name, data['pattern_raharjana']), axis=1)\n",
    "data['false_webb']"
   ]
  },
  {
   "cell_type": "code",
   "execution_count": 13,
   "metadata": {},
   "outputs": [
    {
     "data": {
      "text/plain": [
       "0    [(extract, a, motion, object), (generate, a, f...\n",
       "1    [(extract, a, motion, object), (generate, a, f...\n",
       "2                                                   []\n",
       "3                                                   []\n",
       "4    [(generate, a, natural, language, model), (gen...\n",
       "5    [(generate, a, natural, language, model), (gen...\n",
       "6    [(receive, paper, form, data), (determine, fir...\n",
       "7    [(receive, paper, form, data), (determine, fir...\n",
       "8    [(track, player, attributes), (track, game, st...\n",
       "9    [(execute, an, order), (provide, an, optimal, ...\n",
       "Name: unpredicted_webb, dtype: object"
      ]
     },
     "execution_count": 13,
     "metadata": {},
     "output_type": "execute_result"
    }
   ],
   "source": [
    "# find the unpredicted chunk from verb-noun pattern\n",
    "\n",
    "def find_unpredicted(index, column_true):\n",
    "    result = [i for i in data['expected_result'][index] if i not in column_true[index]]\n",
    "    return result\n",
    "\n",
    "data['unpredicted_webb'] = data.apply(lambda row: find_unpredicted(row.name, data['true_webb']), axis=1)\n",
    "data['unpredicted_raharjana'] = data.apply(lambda row: find_unpredicted(row.name, data['true_raharjana']), axis=1)\n",
    "data['unpredicted_johann'] = data.apply(lambda row: find_unpredicted(row.name, data['true_johann']), axis=1)\n",
    "data['unpredicted_webb']"
   ]
  },
  {
   "cell_type": "code",
   "execution_count": 14,
   "metadata": {},
   "outputs": [
    {
     "name": "stdout",
     "output_type": "stream",
     "text": [
      "Hasil chunk pattern Webb\n",
      "\n",
      "True positive =  27\n",
      "False positive =  5\n",
      "False negative =  51\n",
      "\n",
      "Precision =  0.84375\n",
      "Recall =  0.34615384615384615\n",
      "F1 score =  0.4909090909090909\n"
     ]
    }
   ],
   "source": [
    "# count percentage of pattern Webb accuracy\n",
    "\n",
    "tp_webb = data['true_webb'].apply(len).sum()\n",
    "fp_webb = data['false_webb'].apply(len).sum()\n",
    "fn_webb = data['unpredicted_webb'].apply(len).sum()\n",
    "precision_webb = tp_webb / (tp_webb + fp_webb)\n",
    "recall_webb = tp_webb / (tp_webb + fn_webb)\n",
    "f1score_webb = 2 * (precision_webb * recall_webb) / (precision_webb + recall_webb)\n",
    "\n",
    "print(\"Hasil chunk pattern Webb\\n\")\n",
    "print(\"True positive = \", tp_webb)\n",
    "print(\"False positive = \", fp_webb)\n",
    "print(\"False negative = \", fn_webb)\n",
    "print(\"\\nPrecision = \", precision_webb)\n",
    "print(\"Recall = \", recall_webb)\n",
    "print(\"F1 score = \", f1score_webb)\n"
   ]
  },
  {
   "cell_type": "code",
   "execution_count": 15,
   "metadata": {},
   "outputs": [
    {
     "name": "stdout",
     "output_type": "stream",
     "text": [
      "Hasil chunk pattern Johann\n",
      "\n",
      "True positive =  50\n",
      "False positive =  13\n",
      "False negative =  39\n",
      "\n",
      "Precision =  0.7936507936507936\n",
      "Recall =  0.5617977528089888\n",
      "F1 score =  0.6578947368421053\n"
     ]
    }
   ],
   "source": [
    "# count percentage of pattern Johann accuracy\n",
    "\n",
    "tp_johann = data['true_johann'].apply(len).sum()\n",
    "fp_johann = data['false_johann'].apply(len).sum()\n",
    "fn_johann = data['unpredicted_johann'].apply(len).sum()\n",
    "precision_johann = tp_johann / (tp_johann + fp_johann)\n",
    "recall_johann = tp_johann / (tp_johann + fn_johann)\n",
    "f1score_johann = 2 * (precision_johann * recall_johann) / (precision_johann + recall_johann)\n",
    "\n",
    "print(\"Hasil chunk pattern Johann\\n\")\n",
    "print(\"True positive = \", tp_johann)\n",
    "print(\"False positive = \", fp_johann)\n",
    "print(\"False negative = \", fn_johann)\n",
    "print(\"\\nPrecision = \", precision_johann)\n",
    "print(\"Recall = \", recall_johann)\n",
    "print(\"F1 score = \", f1score_johann)"
   ]
  },
  {
   "cell_type": "code",
   "execution_count": 16,
   "metadata": {},
   "outputs": [
    {
     "name": "stdout",
     "output_type": "stream",
     "text": [
      "Hasil chunk pattern Raharjana\n",
      "\n",
      "True positive =  59\n",
      "False positive =  16\n",
      "False negative =  34\n",
      "\n",
      "Precision =  0.7866666666666666\n",
      "Recall =  0.6344086021505376\n",
      "F1 score =  0.7023809523809524\n"
     ]
    }
   ],
   "source": [
    "# count percentage of pattern Raharjana accuracy\n",
    "\n",
    "tp_raharjana = data['true_raharjana'].apply(len).sum()\n",
    "fp_raharjana = data['false_raharjana'].apply(len).sum()\n",
    "fn_raharjana = data['unpredicted_raharjana'].apply(len).sum()\n",
    "precision_raharjana = tp_raharjana / (tp_raharjana + fp_raharjana)\n",
    "recall_raharjana = tp_raharjana / (tp_raharjana + fn_raharjana)\n",
    "f1score_raharjana = 2 * (precision_raharjana * recall_raharjana) / (precision_raharjana + recall_raharjana)\n",
    "\n",
    "print(\"Hasil chunk pattern Raharjana\\n\")\n",
    "print(\"True positive = \", tp_raharjana)\n",
    "print(\"False positive = \", fp_raharjana)\n",
    "print(\"False negative = \", fn_raharjana)\n",
    "print(\"\\nPrecision = \", precision_raharjana)\n",
    "print(\"Recall = \", recall_raharjana)\n",
    "print(\"F1 score = \", f1score_raharjana)"
   ]
  },
  {
   "cell_type": "code",
   "execution_count": 22,
   "metadata": {},
   "outputs": [],
   "source": [
    "# hasile\n",
    "\n",
    "data.to_excel('export_result/accuration_test_result2.xlsx', index=False)"
   ]
  }
 ],
 "metadata": {
  "kernelspec": {
   "display_name": "Python 3",
   "language": "python",
   "name": "python3"
  },
  "language_info": {
   "codemirror_mode": {
    "name": "ipython",
    "version": 3
   },
   "file_extension": ".py",
   "mimetype": "text/x-python",
   "name": "python",
   "nbconvert_exporter": "python",
   "pygments_lexer": "ipython3",
   "version": "3.8.10"
  }
 },
 "nbformat": 4,
 "nbformat_minor": 2
}
