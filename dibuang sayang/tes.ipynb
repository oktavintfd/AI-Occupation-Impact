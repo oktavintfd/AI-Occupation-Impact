{
 "cells": [
  {
   "cell_type": "code",
   "execution_count": 3,
   "metadata": {},
   "outputs": [],
   "source": [
    "from krippendorff import alpha\n",
    "import numpy as np\n",
    "import pandas as pd"
   ]
  },
  {
   "cell_type": "code",
   "execution_count": 2,
   "metadata": {},
   "outputs": [
    {
     "name": "stdout",
     "output_type": "stream",
     "text": [
      "[('restrict', 'VB'), ('the', 'DT'), ('behavior', 'NN')]\n",
      "[('oversee', 'IN'), ('the', 'DT'), ('interpretation', 'NN'), ('and', 'CC'), ('implementation', 'NN')]\n",
      "[('represent', 'VB'), ('their', 'PRP$'), ('country', 'NN'), ('abroad', 'RB')]\n",
      "[('direct', 'JJ')]\n",
      "[('carry', 'VB'), ('out', 'RP'), ('similar', 'JJ'), ('task', 'NN')]\n",
      "[('control', 'NN')]\n",
      "[('represent', 'VB'), ('their', 'PRP$'), ('country', 'NN'), ('abroad', 'RB'), ('and', 'CC'), ('act', 'VB')]\n",
      "[('act', 'NN'), ('on', 'IN'), ('its', 'PRP$'), ('behalf', 'NN')]\n",
      "[('plan', 'NN')]\n",
      "[('organize', 'VB')]\n",
      "[('represent', 'VB'), ('their', 'PRP$'), ('country', 'NN')]\n",
      "[('prepare', 'NN'), ('and', 'CC'), ('revise', 'NN'), ('digital', 'NN')]\n",
      "[('prepare', 'NN'), ('and', 'CC'), ('revise', 'NN')]\n",
      "[('apply', 'VB'), ('scientific', 'JJ'), ('and', 'CC'), ('mathematical', 'JJ'), ('principle', 'NN')]\n",
      "[('apply', 'RB'), ('scientific', 'JJ'), ('knowledge', 'NN')]\n",
      "[('analyse', 'NN')]\n",
      "[('monitor', 'NN'), ('data', 'NNS')]\n",
      "[('analyse', 'NN'), ('information', 'NN')]\n",
      "[('provide', 'NN'), ('advice', 'NN')]\n",
      "[('analyse', 'NN'), ('and', 'CC'), ('prepare', 'VB'), ('report', 'NN')]\n",
      "[('prepare', 'JJ'), ('report', 'NN'), ('and', 'CC'), ('plan', 'NN')]\n",
      "[('analyse', 'JJ'), ('information', 'NN'), ('and', 'CC'), ('prepare', 'VB'), ('report', 'NN'), ('and', 'CC'), ('plan', 'NN')]\n",
      "[('determine', 'NN'), ('whether', 'IN')]\n",
      "[('real', 'JJ'), ('time', 'NN'), ('surgical', 'JJ'), ('information', 'NN')]\n",
      "[('receive', 'JJ'), ('real', 'JJ'), ('time', 'NN'), ('surgical', 'JJ'), ('information', 'NN')]\n",
      "[('analyzes', 'NNS')]\n",
      "[('photograph', 'IN'), ('the', 'DT'), ('light', 'NN')]\n",
      "[('analyzes', 'NNS'), ('at', 'IN'), ('least', 'JJS'), ('two', 'CD'), ('among', 'IN'), ('the', 'DT'), ('luminous', 'JJ'), ('intensity', 'NN')]\n",
      "[('describes', 'NNS'), ('spacetime', 'VBP'), ('characteristic', 'JJ')]\n",
      "[('collect', 'VB'), ('money', 'NN')]\n",
      "[('provide', 'VB'), ('background', 'NN'), ('information', 'NN'), ('on', 'IN'), ('interest', 'NN'), ('feature', 'NN')]\n",
      "[('accompany', 'JJ'), ('individual', 'JJ'), ('or', 'CC'), ('group', 'NN'), ('on', 'IN'), ('trip', 'NN')]\n",
      "[('accompany', 'JJ'), ('individual', 'JJ'), ('or', 'CC'), ('group', 'NN')]\n",
      "[('sightsee', 'VB'), ('tour', 'NN'), ('and', 'CC'), ('excursion', 'NN')]\n",
      "[('describe', 'NN')]\n",
      "[('provide', 'VB'), ('background', 'NN'), ('information', 'NN')]\n",
      "[('describe', 'JJ'), ('point', 'NN'), ('of', 'IN'), ('interest', 'NN')]\n",
      "[('fill', 'RB'), ('different', 'JJ'), ('container', 'NN')]\n",
      "[('pack', 'NN')]\n",
      "[('control', 'VB'), ('the', 'DT'), ('movement', 'NN')]\n",
      "[('control', 'VB'), ('their', 'PRP$'), ('movement', 'NN')]\n",
      "[('cement', 'NN'), ('opening', 'NN'), ('in', 'IN'), ('wall', 'NN'), ('or', 'CC'), ('casing', 'NN'), ('for', 'IN'), ('well', 'RB')]\n",
      "[('cement', 'NN'), ('opening', 'NN')]\n",
      "[('finish', 'JJ'), ('and', 'CC'), ('repair', 'JJ'), ('cement', 'NN'), ('surface', 'NN')]\n",
      "[('hunt', 'NN'), ('and', 'CC'), ('trap', 'NN'), ('animal', 'NN')]\n",
      "[('catch', 'NN'), ('fish', 'NN')]\n",
      "[('hunt', 'NN'), ('animal', 'NN')]\n",
      "[('gather', 'RB'), ('various', 'JJ'), ('form', 'NN'), ('of', 'IN'), ('aquatic', 'JJ'), ('life', 'NN')]\n",
      "[('catch', 'NN'), ('fish', 'NN')]\n",
      "[('gather', 'NN'), ('wild', 'JJ'), ('fruit', 'NN'), ('and', 'CC'), ('medicinal', 'JJ'), ('and', 'CC'), ('other', 'JJ'), ('plant', 'NN')]\n",
      "[('tend', 'NN'), ('or', 'CC'), ('hunt', 'NN'), ('animal', 'NN')]\n",
      "[('gather', 'NN'), ('wild', 'JJ'), ('fruit', 'NN')]\n"
     ]
    }
   ],
   "source": [
    "import nltk\n",
    "from nltk.tokenize import word_tokenize\n",
    "\n",
    "# Sample list of tuples\n",
    "list_of_tuples = [\n",
    "    ('restrict', 'the', 'behavior'),\n",
    "    ('oversee', 'the', 'interpretation', 'and', 'implementation'), ('represent', 'their', 'country', 'abroad'), ('direct',), ('carry', 'out', 'similar', 'task'), ('control',), ('represent', 'their', 'country', 'abroad', 'and', 'act'), ('act', 'on', 'its', 'behalf'), ('plan',), ('organize',), ('represent', 'their', 'country'),\n",
    "    ('prepare', 'and', 'revise', 'digital'), ('prepare', 'and', 'revise'), ('apply', 'scientific', 'and', 'mathematical', 'principle'),\n",
    "    ('apply', 'scientific', 'knowledge'),\n",
    "    ('analyse',), ('monitor', 'data'), ('analyse', 'information'), ('provide', 'advice'), ('analyse', 'and', 'prepare', 'report'), ('prepare', 'report', 'and', 'plan'), ('analyse', 'information', 'and', 'prepare', 'report', 'and', 'plan'),\n",
    "    ('determine', 'whether'),\n",
    "    ('real', 'time', 'surgical', 'information'), ('receive', 'real', 'time', 'surgical', 'information'),\n",
    "    ('analyzes',), ('photograph', 'the', 'light'), ('analyzes', 'at', 'least', 'two', 'among', 'the', 'luminous', 'intensity'),\n",
    "    ('describes', 'spacetime', 'characteristic'),\n",
    "    ('collect', 'money'),\n",
    "    ('provide', 'background', 'information', 'on', 'interest', 'feature'), ('accompany', 'individual', 'or', 'group', 'on', 'trip'), ('accompany', 'individual', 'or', 'group'), ('sightsee', 'tour', 'and', 'excursion'), ('describe',), ('provide', 'background', 'information'), ('describe', 'point', 'of', 'interest'),\n",
    "    ('fill', 'different', 'container'), ('pack',),\n",
    "    ('control', 'the', 'movement'), ('control', 'their', 'movement'),\n",
    "    ('cement', 'opening', 'in', 'wall', 'or', 'casing', 'for', 'well'), ('cement', 'opening'), ('finish', 'and', 'repair', 'cement', 'surface'),\n",
    "    ('hunt', 'and', 'trap', 'animal'), ('catch', 'fish'),\n",
    "    ('hunt', 'animal'), ('gather', 'various', 'form', 'of', 'aquatic', 'life'), ('catch', 'fish'), ('gather', 'wild', 'fruit', 'and', 'medicinal', 'and', 'other', 'plant'), ('tend', 'or', 'hunt', 'animal'), ('gather', 'wild', 'fruit'),\n",
    "]\n",
    "\n",
    "# Function to perform POS tagging on each tuple\n",
    "def pos_tag_tuples(list_of_tuples):\n",
    "    tagged_tuples = []\n",
    "    for tup in list_of_tuples:\n",
    "        # Joining the words in the tuple to form a sentence\n",
    "        sentence = ' '.join(tup)\n",
    "        # Tokenizing the sentence\n",
    "        words = word_tokenize(sentence)\n",
    "        # Performing POS tagging\n",
    "        tagged_words = nltk.pos_tag(words)\n",
    "        tagged_tuples.append(tagged_words)\n",
    "    return tagged_tuples\n",
    "\n",
    "# Calling the function to perform POS tagging\n",
    "tagged_tuples = pos_tag_tuples(list_of_tuples)\n",
    "\n",
    "# Printing the tagged tuples\n",
    "for tagged_tup in tagged_tuples:\n",
    "    print(tagged_tup)\n"
   ]
  },
  {
   "cell_type": "code",
   "execution_count": 4,
   "metadata": {},
   "outputs": [
    {
     "data": {
      "text/html": [
       "<div>\n",
       "<style scoped>\n",
       "    .dataframe tbody tr th:only-of-type {\n",
       "        vertical-align: middle;\n",
       "    }\n",
       "\n",
       "    .dataframe tbody tr th {\n",
       "        vertical-align: top;\n",
       "    }\n",
       "\n",
       "    .dataframe thead th {\n",
       "        text-align: right;\n",
       "    }\n",
       "</style>\n",
       "<table border=\"1\" class=\"dataframe\">\n",
       "  <thead>\n",
       "    <tr style=\"text-align: right;\">\n",
       "      <th></th>\n",
       "      <th>Occupation</th>\n",
       "      <th>Responden 1</th>\n",
       "      <th>Responden 2</th>\n",
       "      <th>Responden 3</th>\n",
       "      <th>Responden 4</th>\n",
       "      <th>Responden 5</th>\n",
       "      <th>Responden 6</th>\n",
       "      <th>Tidak Terdampak</th>\n",
       "      <th>Terdampak Sebagian</th>\n",
       "      <th>Terdampak Penuh</th>\n",
       "    </tr>\n",
       "  </thead>\n",
       "  <tbody>\n",
       "    <tr>\n",
       "      <th>0</th>\n",
       "      <td>Legislators</td>\n",
       "      <td>1</td>\n",
       "      <td>1</td>\n",
       "      <td>2</td>\n",
       "      <td>1</td>\n",
       "      <td>2</td>\n",
       "      <td>2</td>\n",
       "      <td>3</td>\n",
       "      <td>2</td>\n",
       "      <td>0</td>\n",
       "    </tr>\n",
       "    <tr>\n",
       "      <th>1</th>\n",
       "      <td>Finance Managers</td>\n",
       "      <td>1</td>\n",
       "      <td>2</td>\n",
       "      <td>2</td>\n",
       "      <td>3</td>\n",
       "      <td>3</td>\n",
       "      <td>3</td>\n",
       "      <td>1</td>\n",
       "      <td>2</td>\n",
       "      <td>2</td>\n",
       "    </tr>\n",
       "    <tr>\n",
       "      <th>2</th>\n",
       "      <td>Agricultural and Forestry Production Managers</td>\n",
       "      <td>1</td>\n",
       "      <td>2</td>\n",
       "      <td>1</td>\n",
       "      <td>1</td>\n",
       "      <td>3</td>\n",
       "      <td>2</td>\n",
       "      <td>3</td>\n",
       "      <td>1</td>\n",
       "      <td>1</td>\n",
       "    </tr>\n",
       "    <tr>\n",
       "      <th>3</th>\n",
       "      <td>Hotel Managers</td>\n",
       "      <td>1</td>\n",
       "      <td>2</td>\n",
       "      <td>2</td>\n",
       "      <td>1</td>\n",
       "      <td>3</td>\n",
       "      <td>3</td>\n",
       "      <td>2</td>\n",
       "      <td>2</td>\n",
       "      <td>1</td>\n",
       "    </tr>\n",
       "    <tr>\n",
       "      <th>4</th>\n",
       "      <td>Physicists and Astronomers</td>\n",
       "      <td>2</td>\n",
       "      <td>3</td>\n",
       "      <td>3</td>\n",
       "      <td>1</td>\n",
       "      <td>3</td>\n",
       "      <td>3</td>\n",
       "      <td>1</td>\n",
       "      <td>1</td>\n",
       "      <td>3</td>\n",
       "    </tr>\n",
       "  </tbody>\n",
       "</table>\n",
       "</div>"
      ],
      "text/plain": [
       "                                      Occupation  Responden 1  Responden 2  \\\n",
       "0                                    Legislators            1            1   \n",
       "1                               Finance Managers            1            2   \n",
       "2  Agricultural and Forestry Production Managers            1            2   \n",
       "3                                 Hotel Managers            1            2   \n",
       "4                     Physicists and Astronomers            2            3   \n",
       "\n",
       "   Responden 3  Responden 4  Responden 5  Responden 6  Tidak Terdampak  \\\n",
       "0            2            1            2            2                3   \n",
       "1            2            3            3            3                1   \n",
       "2            1            1            3            2                3   \n",
       "3            2            1            3            3                2   \n",
       "4            3            1            3            3                1   \n",
       "\n",
       "   Terdampak Sebagian  Terdampak Penuh  \n",
       "0                   2                0  \n",
       "1                   2                2  \n",
       "2                   1                1  \n",
       "3                   2                1  \n",
       "4                   1                3  "
      ]
     },
     "execution_count": 4,
     "metadata": {},
     "output_type": "execute_result"
    }
   ],
   "source": [
    "data = pd.read_excel('data/occupation_exposure_eval.xlsx')\n",
    "data.head()"
   ]
  },
  {
   "cell_type": "code",
   "execution_count": 5,
   "metadata": {},
   "outputs": [],
   "source": [
    "data = data[[\"Responden 1\", \"Responden 2\", \"Responden 3\", \"Responden 4\", \"Responden 5\"]]"
   ]
  },
  {
   "cell_type": "code",
   "execution_count": 6,
   "metadata": {},
   "outputs": [
    {
     "name": "stdout",
     "output_type": "stream",
     "text": [
      "Fleiss' Kappa: 0.05439428740713359\n"
     ]
    }
   ],
   "source": [
    "# Calculate Fleiss' Kappa\n",
    "kappa = alpha(data)\n",
    "\n",
    "print(\"Fleiss' Kappa:\", kappa)"
   ]
  },
  {
   "cell_type": "code",
   "execution_count": 8,
   "metadata": {},
   "outputs": [],
   "source": [
    "annotator_data = pd.read_excel('data/keyword_extraction_eval_count.xlsx')\n",
    "annotator_data = annotator_data[annotator_data['labeling'] >= 3]\n",
    "annotator_data = annotator_data[[\"Responden 1\", \"Responden 2\", \"Responden 3\", \"Responden 4\", \"Responden 5\"]]"
   ]
  },
  {
   "cell_type": "code",
   "execution_count": 9,
   "metadata": {},
   "outputs": [
    {
     "name": "stdout",
     "output_type": "stream",
     "text": [
      "Fleiss' Kappa: 0.002478062862911967\n"
     ]
    }
   ],
   "source": [
    "# Calculate Fleiss' Kappa\n",
    "kappa = alpha(annotator_data)\n",
    "\n",
    "print(\"Fleiss' Kappa:\", kappa)"
   ]
  }
 ],
 "metadata": {
  "kernelspec": {
   "display_name": "Python 3",
   "language": "python",
   "name": "python3"
  },
  "language_info": {
   "codemirror_mode": {
    "name": "ipython",
    "version": 3
   },
   "file_extension": ".py",
   "mimetype": "text/x-python",
   "name": "python",
   "nbconvert_exporter": "python",
   "pygments_lexer": "ipython3",
   "version": "3.8.0"
  }
 },
 "nbformat": 4,
 "nbformat_minor": 2
}
