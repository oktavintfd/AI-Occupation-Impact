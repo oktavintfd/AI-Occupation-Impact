{
 "cells": [
  {
   "cell_type": "code",
   "execution_count": 2,
   "metadata": {},
   "outputs": [],
   "source": [
    "import json\n",
    "import pandas as pd"
   ]
  },
  {
   "cell_type": "code",
   "execution_count": 3,
   "metadata": {},
   "outputs": [],
   "source": [
    "jsonl_file = 'data/new_paten.json'  # Gantilah dengan nama file JSONL yang sesuai\n",
    "data = []\n",
    "\n",
    "with open(jsonl_file, 'r', encoding='utf-8', errors='ignore') as file:\n",
    "    for line in file:\n",
    "        data.append(json.loads(line))\n",
    "\n",
    "data = pd.DataFrame(data)"
   ]
  },
  {
   "cell_type": "code",
   "execution_count": 4,
   "metadata": {},
   "outputs": [],
   "source": [
    "def get_english_text(data_list):\n",
    "    for item in data_list:\n",
    "        if item.get('language') == 'en':\n",
    "            return item.get('text')\n",
    "    return None\n",
    "\n",
    "data['title'] = data['title_localized'].apply(get_english_text)\n",
    "data['abstract'] = data['abstract_localized'].apply(get_english_text)"
   ]
  },
  {
   "cell_type": "code",
   "execution_count": 5,
   "metadata": {},
   "outputs": [],
   "source": [
    "# hasile\n",
    "\n",
    "patent_task = data[[\"title\", \"abstract\"]]\n",
    "patent_task.to_excel('data/new_paten.xlsx', index=False)"
   ]
  }
 ],
 "metadata": {
  "kernelspec": {
   "display_name": "Python 3",
   "language": "python",
   "name": "python3"
  },
  "language_info": {
   "codemirror_mode": {
    "name": "ipython",
    "version": 3
   },
   "file_extension": ".py",
   "mimetype": "text/x-python",
   "name": "python",
   "nbconvert_exporter": "python",
   "pygments_lexer": "ipython3",
   "version": "3.8.10"
  }
 },
 "nbformat": 4,
 "nbformat_minor": 2
}
