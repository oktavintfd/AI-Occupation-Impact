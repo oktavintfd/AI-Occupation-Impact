{
 "cells": [
  {
   "cell_type": "code",
   "execution_count": 5,
   "metadata": {},
   "outputs": [],
   "source": [
    "# import libraries\n",
    "import pandas as pd\n",
    "import pingouin as pg"
   ]
  },
  {
   "cell_type": "code",
   "execution_count": 8,
   "metadata": {},
   "outputs": [
    {
     "data": {
      "text/html": [
       "<div>\n",
       "<style scoped>\n",
       "    .dataframe tbody tr th:only-of-type {\n",
       "        vertical-align: middle;\n",
       "    }\n",
       "\n",
       "    .dataframe tbody tr th {\n",
       "        vertical-align: top;\n",
       "    }\n",
       "\n",
       "    .dataframe thead th {\n",
       "        text-align: right;\n",
       "    }\n",
       "</style>\n",
       "<table border=\"1\" class=\"dataframe\">\n",
       "  <thead>\n",
       "    <tr style=\"text-align: right;\">\n",
       "      <th></th>\n",
       "      <th>raters</th>\n",
       "      <th>ratings</th>\n",
       "      <th>targets</th>\n",
       "    </tr>\n",
       "  </thead>\n",
       "  <tbody>\n",
       "    <tr>\n",
       "      <th>0</th>\n",
       "      <td>exposure_talitha</td>\n",
       "      <td>0.187500</td>\n",
       "      <td>0</td>\n",
       "    </tr>\n",
       "    <tr>\n",
       "      <th>1</th>\n",
       "      <td>exposure_talitha</td>\n",
       "      <td>0.625000</td>\n",
       "      <td>1</td>\n",
       "    </tr>\n",
       "    <tr>\n",
       "      <th>2</th>\n",
       "      <td>exposure_talitha</td>\n",
       "      <td>0.625000</td>\n",
       "      <td>2</td>\n",
       "    </tr>\n",
       "    <tr>\n",
       "      <th>3</th>\n",
       "      <td>exposure_talitha</td>\n",
       "      <td>0.650000</td>\n",
       "      <td>3</td>\n",
       "    </tr>\n",
       "    <tr>\n",
       "      <th>4</th>\n",
       "      <td>exposure_talitha</td>\n",
       "      <td>0.618182</td>\n",
       "      <td>4</td>\n",
       "    </tr>\n",
       "    <tr>\n",
       "      <th>...</th>\n",
       "      <td>...</td>\n",
       "      <td>...</td>\n",
       "      <td>...</td>\n",
       "    </tr>\n",
       "    <tr>\n",
       "      <th>115</th>\n",
       "      <td>exposure_indhy</td>\n",
       "      <td>0.662500</td>\n",
       "      <td>35</td>\n",
       "    </tr>\n",
       "    <tr>\n",
       "      <th>116</th>\n",
       "      <td>exposure_indhy</td>\n",
       "      <td>0.385714</td>\n",
       "      <td>36</td>\n",
       "    </tr>\n",
       "    <tr>\n",
       "      <th>117</th>\n",
       "      <td>exposure_indhy</td>\n",
       "      <td>0.755556</td>\n",
       "      <td>37</td>\n",
       "    </tr>\n",
       "    <tr>\n",
       "      <th>118</th>\n",
       "      <td>exposure_indhy</td>\n",
       "      <td>0.725000</td>\n",
       "      <td>38</td>\n",
       "    </tr>\n",
       "    <tr>\n",
       "      <th>119</th>\n",
       "      <td>exposure_indhy</td>\n",
       "      <td>0.175000</td>\n",
       "      <td>39</td>\n",
       "    </tr>\n",
       "  </tbody>\n",
       "</table>\n",
       "<p>120 rows × 3 columns</p>\n",
       "</div>"
      ],
      "text/plain": [
       "               raters   ratings  targets\n",
       "0    exposure_talitha  0.187500        0\n",
       "1    exposure_talitha  0.625000        1\n",
       "2    exposure_talitha  0.625000        2\n",
       "3    exposure_talitha  0.650000        3\n",
       "4    exposure_talitha  0.618182        4\n",
       "..                ...       ...      ...\n",
       "115    exposure_indhy  0.662500       35\n",
       "116    exposure_indhy  0.385714       36\n",
       "117    exposure_indhy  0.755556       37\n",
       "118    exposure_indhy  0.725000       38\n",
       "119    exposure_indhy  0.175000       39\n",
       "\n",
       "[120 rows x 3 columns]"
      ]
     },
     "execution_count": 8,
     "metadata": {},
     "output_type": "execute_result"
    }
   ],
   "source": [
    "# read data\n",
    "data = pd.read_excel('data/occupation_exposure_eval_data.xlsx')\n",
    "data = data[[\"exposure_talitha\", \"exposure_azka\", \"exposure_indhy\"]]\n",
    "# data = data.iloc[:15]\n",
    "\n",
    "# Menyesuaikan DataFrame\n",
    "data_melt = data.melt(var_name='raters', value_name='ratings')\n",
    "data_melt['targets'] = data_melt.groupby('raters').cumcount()\n",
    "\n",
    "data_melt"
   ]
  },
  {
   "cell_type": "code",
   "execution_count": 9,
   "metadata": {},
   "outputs": [
    {
     "name": "stdout",
     "output_type": "stream",
     "text": [
      "    Type              Description       ICC         F  df1  df2          pval  \\\n",
      "0   ICC1   Single raters absolute  0.560374  4.823983   39   80  1.363025e-09   \n",
      "1   ICC2     Single random raters  0.574808  6.278327   39   78  3.333630e-12   \n",
      "2   ICC3      Single fixed raters  0.637608  6.278327   39   78  3.333630e-12   \n",
      "3  ICC1k  Average raters absolute  0.792702  4.823983   39   80  1.363025e-09   \n",
      "4  ICC2k    Average random raters  0.802201  6.278327   39   78  3.333630e-12   \n",
      "5  ICC3k     Average fixed raters  0.840722  6.278327   39   78  3.333630e-12   \n",
      "\n",
      "          CI95%  \n",
      "0  [0.38, 0.72]  \n",
      "1  [0.36, 0.74]  \n",
      "2  [0.48, 0.77]  \n",
      "3  [0.65, 0.88]  \n",
      "4   [0.63, 0.9]  \n",
      "5  [0.73, 0.91]  \n"
     ]
    }
   ],
   "source": [
    "# Menghitung ICC\n",
    "icc = pg.intraclass_corr(data=data_melt, targets='targets', raters='raters', ratings='ratings')\n",
    "print(icc)"
   ]
  }
 ],
 "metadata": {
  "kernelspec": {
   "display_name": "Python 3",
   "language": "python",
   "name": "python3"
  },
  "language_info": {
   "codemirror_mode": {
    "name": "ipython",
    "version": 3
   },
   "file_extension": ".py",
   "mimetype": "text/x-python",
   "name": "python",
   "nbconvert_exporter": "python",
   "pygments_lexer": "ipython3",
   "version": "3.10.0"
  }
 },
 "nbformat": 4,
 "nbformat_minor": 2
}
